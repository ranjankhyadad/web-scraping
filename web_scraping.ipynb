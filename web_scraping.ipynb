{
 "cells": [
  {
   "cell_type": "code",
   "execution_count": 2,
   "metadata": {},
   "outputs": [],
   "source": [
    "import requests\n",
    "from bs4 import BeautifulSoup"
   ]
  },
  {
   "cell_type": "code",
   "execution_count": 14,
   "metadata": {},
   "outputs": [],
   "source": [
    "r = requests.get(\"https://ranjankhyadad.herokuapp.com/\")"
   ]
  },
  {
   "cell_type": "code",
   "execution_count": 15,
   "metadata": {},
   "outputs": [],
   "source": [
    "content = r.content"
   ]
  },
  {
   "cell_type": "code",
   "execution_count": 17,
   "metadata": {},
   "outputs": [
    {
     "data": {
      "text/plain": [
       "b'<!DOCTYPE html>\\n<html>\\n    <head>\\n        <title>Flask App</title>\\n        <link rel= \"stylesheet\" href= \"/static/css/main.css\"\\n    </head>\\n    <body>\\n        <header>\\n            <div class= \"container\">\\n                <h1 class=\"logo\">My WebApp</h1>\\n                <strong><nav>\\n                    <ul class= \"menu\">\\n                        <li><a href= \"/\">Home</a></li>\\n                        <li><a href= \"/about/\">About</a></li>\\n                    </ul>\\n                </nav></strong>\\n            </div>\\n        </header>\\n        <div class= \"container\">\\n            \\n<div class = \"home\">\\n    <h1>Home Sweet Home!</h1>\\n</div>\\n\\n        </div>\\n    </body>\\n</html>'"
      ]
     },
     "execution_count": 17,
     "metadata": {},
     "output_type": "execute_result"
    }
   ],
   "source": [
    "content"
   ]
  },
  {
   "cell_type": "code",
   "execution_count": 19,
   "metadata": {},
   "outputs": [
    {
     "data": {
      "text/plain": [
       "<!DOCTYPE html>\n",
       "\n",
       "<html>\n",
       "<head>\n",
       "<title>Flask App</title>\n",
       "<link <=\"\" head=\"\" href=\"/static/css/main.css\" rel=\"stylesheet\"/>\n",
       "<body>\n",
       "<header>\n",
       "<div class=\"container\">\n",
       "<h1 class=\"logo\">My WebApp</h1>\n",
       "<strong><nav>\n",
       "<ul class=\"menu\">\n",
       "<li><a href=\"/\">Home</a></li>\n",
       "<li><a href=\"/about/\">About</a></li>\n",
       "</ul>\n",
       "</nav></strong>\n",
       "</div>\n",
       "</header>\n",
       "<div class=\"container\">\n",
       "<div class=\"home\">\n",
       "<h1>Home Sweet Home!</h1>\n",
       "</div>\n",
       "</div>\n",
       "</body>\n",
       "</head></html>"
      ]
     },
     "execution_count": 19,
     "metadata": {},
     "output_type": "execute_result"
    }
   ],
   "source": [
    "soup = BeautifulSoup(content, \"html.parser\")\n",
    "soup"
   ]
  },
  {
   "cell_type": "code",
   "execution_count": 20,
   "metadata": {},
   "outputs": [
    {
     "data": {
      "text/plain": [
       "[<div class=\"container\">\n",
       " <h1 class=\"logo\">My WebApp</h1>\n",
       " <strong><nav>\n",
       " <ul class=\"menu\">\n",
       " <li><a href=\"/\">Home</a></li>\n",
       " <li><a href=\"/about/\">About</a></li>\n",
       " </ul>\n",
       " </nav></strong>\n",
       " </div>,\n",
       " <div class=\"container\">\n",
       " <div class=\"home\">\n",
       " <h1>Home Sweet Home!</h1>\n",
       " </div>\n",
       " </div>]"
      ]
     },
     "execution_count": 20,
     "metadata": {},
     "output_type": "execute_result"
    }
   ],
   "source": [
    "containers = soup.find_all(\"div\",{\"class\":\"container\"})\n",
    "containers"
   ]
  },
  {
   "cell_type": "code",
   "execution_count": 21,
   "metadata": {},
   "outputs": [
    {
     "data": {
      "text/plain": [
       "<div class=\"container\">\n",
       "<h1 class=\"logo\">My WebApp</h1>\n",
       "<strong><nav>\n",
       "<ul class=\"menu\">\n",
       "<li><a href=\"/\">Home</a></li>\n",
       "<li><a href=\"/about/\">About</a></li>\n",
       "</ul>\n",
       "</nav></strong>\n",
       "</div>"
      ]
     },
     "execution_count": 21,
     "metadata": {},
     "output_type": "execute_result"
    }
   ],
   "source": [
    "containers[0]"
   ]
  },
  {
   "cell_type": "code",
   "execution_count": 30,
   "metadata": {},
   "outputs": [
    {
     "data": {
      "text/plain": [
       "[<li><a href=\"/\">Home</a></li>, <li><a href=\"/about/\">About</a></li>]"
      ]
     },
     "execution_count": 30,
     "metadata": {},
     "output_type": "execute_result"
    }
   ],
   "source": [
    "lists = containers[0].find_all(\"li\")\n",
    "lists"
   ]
  },
  {
   "cell_type": "code",
   "execution_count": 26,
   "metadata": {},
   "outputs": [
    {
     "data": {
      "text/plain": [
       "<li><a href=\"/\">Home</a></li>"
      ]
     },
     "execution_count": 26,
     "metadata": {},
     "output_type": "execute_result"
    }
   ],
   "source": [
    "containers[0].find_all(\"li\")[0]"
   ]
  },
  {
   "cell_type": "code",
   "execution_count": 28,
   "metadata": {},
   "outputs": [
    {
     "data": {
      "text/plain": [
       "'Home'"
      ]
     },
     "execution_count": 28,
     "metadata": {},
     "output_type": "execute_result"
    }
   ],
   "source": [
    "containers[0].find_all(\"li\")[0].text"
   ]
  },
  {
   "cell_type": "code",
   "execution_count": 31,
   "metadata": {},
   "outputs": [
    {
     "name": "stdout",
     "output_type": "stream",
     "text": [
      "Home\n",
      "About\n"
     ]
    }
   ],
   "source": [
    "for item in lists:\n",
    "    print(item.text)"
   ]
  }
 ],
 "metadata": {
  "kernelspec": {
   "display_name": "Python 3",
   "language": "python",
   "name": "python3"
  },
  "language_info": {
   "codemirror_mode": {
    "name": "ipython",
    "version": 3
   },
   "file_extension": ".py",
   "mimetype": "text/x-python",
   "name": "python",
   "nbconvert_exporter": "python",
   "pygments_lexer": "ipython3",
   "version": "3.7.4"
  }
 },
 "nbformat": 4,
 "nbformat_minor": 4
}
