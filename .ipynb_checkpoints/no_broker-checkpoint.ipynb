{
 "cells": [
  {
   "cell_type": "code",
   "execution_count": 23,
   "metadata": {},
   "outputs": [
    {
     "data": {
      "text/plain": [
       "'Bhaskar Nagar, Glass Factory, Jp Nagar 9th Phase,'"
      ]
     },
     "execution_count": 23,
     "metadata": {},
     "output_type": "execute_result"
    }
   ],
   "source": [
    "import requests\n",
    "from bs4 import BeautifulSoup\n",
    "\n",
    "r = requests.get(\"https://www.nobroker.in/property/rent/bangalore/multiple/?searchParam=W3sibGF0IjoxMi45MzA3NzM1LCJsb24iOjc3LjU4MzgzMDIsInBsYWNlSWQiOiJDaElKMmRkbFo1Z1ZyanNSaDFCT0FhZi1vcnMiLCJwbGFjZU5hbWUiOiJKYXlhbmFnYXIifSx7ImxhdCI6MTIuOTA2MzQzMywibG9uIjo3Ny41ODU2ODI1LCJwbGFjZUlkIjoiQ2hJSks2ZEpjdzBWcmpzUlJqM2Q0YUUtMFBNIiwicGxhY2VOYW1lIjoiSlAgTmFnYXIifV0=&rent=0,6000&sharedAccomodation=0&type=RK1&furnishing=FULLY_FURNISHED,SEMI_FURNISHED&orderBy=nbRank,desc&radius=2&traffic=true&travelTime=30&propertyType=rent\")\n",
    "content = r.content\n",
    "\n",
    "soup = BeautifulSoup(content, \"html.parser\")\n",
    "\n",
    "rks = soup.find_all(\"div\", {\"class\": \"card\"})\n",
    "\n",
    "addr = rks[0].find_all(\"div\",{\"class\": \"card-title\"})[0]\n",
    "addr.find_all(\"h5\")[0].text.replace(\"\\n\", \"\").replace(\"...Explore Nearby\", \"\").strip()"
   ]
  },
  {
   "cell_type": "code",
   "execution_count": 58,
   "metadata": {},
   "outputs": [
    {
     "name": "stdout",
     "output_type": "stream",
     "text": [
      "Bhaskar Nagar, Glass Factory, Jp Nagar 9th Phase,\n",
      "5,000\n",
      "250 sqft\n",
      "50,000\n",
      "Semi Furnished\n",
      "\n",
      "Standalone Building, 5th Phase, Near Mahaveer Spri\n",
      "6,000\n",
      "110 sqft\n",
      "30,000\n",
      "Semi Furnished\n",
      "\n",
      "Standalone Building, Shreyas Colony Near Big Bazaa\n",
      "5,000\n",
      "230 sqft\n",
      "50,000\n",
      "Semi Furnished\n",
      "\n",
      "Independent House, Annaiah Reddy Layout Near Manas\n",
      "4,750\n",
      "300 sqft\n",
      "50,000\n",
      "Semi Furnished\n",
      "\n",
      "Standalone Building, Annaiah Reddy Layout, 6thphas\n",
      "5,500\n",
      "250 sqft\n",
      "20,000\n",
      "Semi Furnished\n",
      "\n",
      "3rd Phase,near Ekya SchoolExplore Nearby\n",
      "6,000\n",
      "200 sqft\n",
      "40,000\n",
      "Semi Furnished\n",
      "\n",
      "Standalone Building, Vijayarangam Layout, Near Ntt\n",
      "6,000\n",
      "242 sqft\n",
      "30,000\n",
      "Semi Furnished\n",
      "\n",
      "1st Phase, Near Sindhoor Convention CentreExplore Nearby\n",
      "6,000\n",
      "300 sqft\n",
      "60,000\n",
      "Semi Furnished\n",
      "\n",
      "Standalone Building, 1st Phase, Near Navodaya Bak\n",
      "6,000\n",
      "600 sqft\n",
      "50,000\n",
      "Semi Furnished\n",
      "\n",
      "Standalone Building, Kanakapura Road, Near Sri Uma\n",
      "5,000\n",
      "200 sqft\n",
      "30,000\n",
      "Semi Furnished\n",
      "\n"
     ]
    }
   ],
   "source": [
    "for item in rks:\n",
    "    addr_block = item.find_all(\"div\",{\"class\": \"card-title\"})[0]\n",
    "    addr = addr_block.find_all(\"h5\")[0].text.replace(\"\\n\", \"\").replace(\"...Explore Nearby\", \"\").strip()\n",
    "    \n",
    "    rent_block = item.find(\"div\", {\"class\": \"col-sm-4 rentMaintDiv\"})\n",
    "    rent = rent_block.find(\"h3\").text.replace(\"+\",\"\").strip()\n",
    "    \n",
    "    area_block = item.find(\"div\",{\"class\" :\"col-sm-4 solid-border-right\"})\n",
    "    area = area_block.find(\"h3\").text.strip()\n",
    "    \n",
    "    deposit_block = item.find_all(\"div\",{\"class\" :\"col-sm-4 solid-border-right\"})[1]\n",
    "    deposit = deposit_block.find(\"h3\").text.strip()\n",
    "    \n",
    "    furnish_status = item.find(\"h5\",{\"class\": \"semi-bold semi-furnish\"}).text.strip()\n",
    "    \n",
    "    print(addr+ \"\\n\"+rent +\"\\n\"+area+ \"\\n\"+deposit+ \"\\n\"+ furnish_status+ \"\\n\")"
   ]
  }
 ],
 "metadata": {
  "kernelspec": {
   "display_name": "Python 3",
   "language": "python",
   "name": "python3"
  },
  "language_info": {
   "codemirror_mode": {
    "name": "ipython",
    "version": 3
   },
   "file_extension": ".py",
   "mimetype": "text/x-python",
   "name": "python",
   "nbconvert_exporter": "python",
   "pygments_lexer": "ipython3",
   "version": "3.7.4"
  }
 },
 "nbformat": 4,
 "nbformat_minor": 4
}
