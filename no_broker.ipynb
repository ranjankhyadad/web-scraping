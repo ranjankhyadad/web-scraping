{
 "cells": [
  {
   "cell_type": "code",
   "execution_count": 2,
   "metadata": {},
   "outputs": [],
   "source": [
    "import requests\n",
    "from bs4 import BeautifulSoup\n",
    "\n",
    "r = requests.get(\"https://www.nobroker.in/property/rent/bangalore/multiple/?searchParam=W3sibGF0IjoxMi45MzA3NzM1LCJsb24iOjc3LjU4MzgzMDIsInBsYWNlSWQiOiJDaElKMmRkbFo1Z1ZyanNSaDFCT0FhZi1vcnMiLCJwbGFjZU5hbWUiOiJKYXlhbmFnYXIifSx7ImxhdCI6MTIuOTA2MzQzMywibG9uIjo3Ny41ODU2ODI1LCJwbGFjZUlkIjoiQ2hJSks2ZEpjdzBWcmpzUlJqM2Q0YUUtMFBNIiwicGxhY2VOYW1lIjoiSlAgTmFnYXIifV0=&rent=0,6000&sharedAccomodation=0&type=RK1&furnishing=FULLY_FURNISHED,SEMI_FURNISHED&orderBy=nbRank,desc&radius=2&traffic=true&travelTime=30&propertyType=rent\")\n",
    "content = r.content\n",
    "\n",
    "soup = BeautifulSoup(content, \"html.parser\")\n",
    "\n",
    "rks = soup.find_all(\"div\", {\"class\": \"card\"})\n",
    "\n",
    "addr = rks[0].find_all(\"div\",{\"class\": \"card-title\"})[0]\n",
    "addr.find_all(\"h5\")[0].text.replace(\"\\n\", \"\").replace(\"...Explore Nearby\", \"\").strip()"
   ]
  }
 ],
 "metadata": {
  "kernelspec": {
   "display_name": "Python 3",
   "language": "python",
   "name": "python3"
  },
  "language_info": {
   "codemirror_mode": {
    "name": "ipython",
    "version": 3
   },
   "file_extension": ".py",
   "mimetype": "text/x-python",
   "name": "python",
   "nbconvert_exporter": "python",
   "pygments_lexer": "ipython3",
   "version": "3.7.4"
  }
 },
 "nbformat": 4,
 "nbformat_minor": 4
}
